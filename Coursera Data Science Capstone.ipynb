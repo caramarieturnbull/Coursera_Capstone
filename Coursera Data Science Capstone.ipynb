{
 "cells": [
  {
   "cell_type": "markdown",
   "metadata": {},
   "source": [
    "# I. Introduction/Business Problem"
   ]
  },
  {
   "cell_type": "markdown",
   "metadata": {},
   "source": [
    "This project will be a way of comparing colleges. The user will be able to perform comparison and clustering based on details about the universities themselves (including tuition/fees, acceptance rate, student body size, etc.) as well as attractions in the cities in which they are located.\n",
    "\n",
    "I will specifically be working with the eight Ivy League schools (Brown University, Columbia University, Cornell University, Dartmouth College, Harvard University, Princeton University, University of Pennsylvania, and Yale University), however the code could be easily modified to compare other universities/cities.\n",
    "\n",
    "This tool is designed to help students make choices about which university to attend."
   ]
  },
  {
   "cell_type": "markdown",
   "metadata": {},
   "source": [
    "# II. Data"
   ]
  },
  {
   "cell_type": "markdown",
   "metadata": {},
   "source": [
    "For this project, I will be using Foursquare location data to explore the attractions/amenities nearby each of the universities. This would be helpful for students looking to narrow their choices based on the type of city they'd like to live in: Is it important to them to have lots of restaurants nearby? Or museums? Or parks? Or music venues?\n",
    "\n",
    "For the school-related data, I will be using data from these two URLs: \n",
    "http://blog.collegetuitioncompare.com/2015/05/ivy-league-2015-2016-estimated-tuition.html\n",
    "https://www.collegetuitioncompare.com/best-schools/ivy-league/\n",
    "\n",
    "From these two sources, I can use webscraping to obtain information about 2020 tuition/fees and on-campus housing costs, as well as the acceptance rates, SAT scores, graduation rate, and student/faculty ratio. All of these pieces of information could be useful to a prospective student trying to choose a university."
   ]
  }
 ],
 "metadata": {
  "kernelspec": {
   "display_name": "Python 3",
   "language": "python",
   "name": "python3"
  },
  "language_info": {
   "codemirror_mode": {
    "name": "ipython",
    "version": 3
   },
   "file_extension": ".py",
   "mimetype": "text/x-python",
   "name": "python",
   "nbconvert_exporter": "python",
   "pygments_lexer": "ipython3",
   "version": "3.7.6"
  }
 },
 "nbformat": 4,
 "nbformat_minor": 4
}
